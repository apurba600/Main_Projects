{
 "cells": [
  {
   "cell_type": "markdown",
   "id": "4904fade",
   "metadata": {},
   "source": [
    "### The aim of this project is to build a book recommendation system by using the concept that, books which are similar to each other will be referenced in the articles section(internal wiki links). It also consists of various tools and techniques that can be used to build other types of recommendation system."
   ]
  },
  {
   "cell_type": "markdown",
   "id": "9dcc063f",
   "metadata": {},
   "source": [
    "\n",
    "# KEY LEARNINGS:\n",
    "\n",
    "- Importing JSON files\n",
    "- Dict use just like list comprehension\n",
    "- Using ITERTOOLS\n",
    "- Using collections, Counter and Ordereddict\n",
    "- using various loops within a loop\n",
    "- Using Generator function to alleviate the need to store all of the training data.\n",
    "\n",
    "\n",
    "#### Generator function learnings\n",
    "\n",
    "- Generator function helps to use the function effectively without saving everything to the memory. loop and use yeild\n",
    "- random class, .sample(population,k), .randrange(int val), .shuffle(list,dict), this library is very effective to randomize process\n",
    "- Generator needs some type of for, while loop, can just write the code and then say while True\n",
    "- when we use for loop with i, n enumerate(x), we can still call the i outside the for loop \n",
    "\n",
    "\n",
    "#### Words Embedding\n",
    "\n",
    "- Embedding is used to create a dense vector representing categories/words/sentences/item etc.\n",
    "- It is a good alternative to one hot encoding. The benefits of embedding is that we can lower the dimensions used and also find cosine similarities between the item.\n",
    "- Embedding is made easier by using the keras library. \n",
    "- When we use the library, It randomly initializes the embedding parameters, which is then trained to find the optimal parameters.\n",
    "- In this project, the supervised learning is done by creating a pair of positive/negative book and wikilinks.\n"
   ]
  },
  {
   "cell_type": "markdown",
   "id": "47f5448e",
   "metadata": {},
   "source": [
    "# Import the libraries "
   ]
  },
  {
   "cell_type": "code",
   "execution_count": 1,
   "id": "bbde19e1",
   "metadata": {},
   "outputs": [],
   "source": [
    "## Import the libraries \n",
    "\n",
    "import pandas as pd\n",
    "import numpy as np # import array tools\n",
    "import matplotlib.pyplot as plt\n",
    "import seaborn as sns\n",
    "\n",
    "\n",
    "from tensorflow.keras.layers import Dense, Input, Dot, Reshape, Embedding\n",
    "from tensorflow.keras.models import Model\n",
    "\n",
    "\n",
    "from collections import Counter, OrderedDict\n",
    "from itertools import chain\n",
    "import json\n",
    "import random \n",
    "random.seed(101) # set random val, to generate same randomness"
   ]
  },
  {
   "cell_type": "markdown",
   "id": "5af0eabc",
   "metadata": {},
   "source": [
    "# Reading the Data"
   ]
  },
  {
   "cell_type": "markdown",
   "id": "8d781e18",
   "metadata": {},
   "source": [
    "#### The file is already scraped from wikipedia and is saved in JSON format. "
   ]
  },
  {
   "cell_type": "markdown",
   "id": "fc6ef297",
   "metadata": {},
   "source": [
    "#### Please download the raw file from the github and save in JSON format to call for this project"
   ]
  },
  {
   "cell_type": "code",
   "execution_count": 2,
   "id": "b8ee0785",
   "metadata": {},
   "outputs": [
    {
     "name": "stdout",
     "output_type": "stream",
     "text": [
      "There are37020 books.\n"
     ]
    }
   ],
   "source": [
    "books = list()\n",
    "\n",
    "with open('data_set/wiki_books_raw.ndjson', 'r') as fin:\n",
    "    \n",
    "    books = [json.loads(l) for l in fin]   # Append, # List comprehension\n",
    "\n",
    "books = [book for book in books if 'Wikipedia:' not in book[0]]\n",
    "print(f\"There are{len(books)} books.\")"
   ]
  },
  {
   "cell_type": "markdown",
   "id": "c95cc1f6",
   "metadata": {},
   "source": [
    "# Data cleaning and exploration"
   ]
  },
  {
   "cell_type": "code",
   "execution_count": 3,
   "id": "537bbf4d",
   "metadata": {},
   "outputs": [
    {
     "data": {
      "text/plain": [
       "['Freud: His Life and His Mind',\n",
       " {'1': '< !-- See Wikipedia:WikiProject_Books -- >',\n",
       "  'name': 'Freud: His Life and His Mind',\n",
       "  'image': 'File:Freud, His Life and His Mind (first edition).jpg',\n",
       "  'caption': 'Cover of the first edition',\n",
       "  'author': 'Helen Walker Puner',\n",
       "  'country': 'United States',\n",
       "  'language': 'English',\n",
       "  'subject': 'Sigmund Freud',\n",
       "  'publisher': 'Dell Publishing',\n",
       "  'pub_date': '1947',\n",
       "  'media_type': 'Print (Hardcover and Paperback)',\n",
       "  'pages': '288 (1959 edition)',\n",
       "  'isbn': '978-1560006114'},\n",
       " ['Sigmund Freud',\n",
       "  'Dell Publishing',\n",
       "  'Hardcover',\n",
       "  'Paperback',\n",
       "  'Sigmund Freud',\n",
       "  'Erich Fromm',\n",
       "  'Dell Publishing',\n",
       "  'Anna Freud',\n",
       "  'Ernest Jones',\n",
       "  'Carl Jung',\n",
       "  'Wilhelm Stekel',\n",
       "  'Fritz Wittels',\n",
       "  'Maurice English',\n",
       "  'The Nation',\n",
       "  'Frederick Crews',\n",
       "  'The New York Review of Books',\n",
       "  'Peter Gay',\n",
       "  'Freud: A Life for Our Time',\n",
       "  'The Life and Work of Sigmund Freud',\n",
       "  'Louis Breger',\n",
       "  'Wilhelm Fliess',\n",
       "  'Freud family',\n",
       "  'Cambridge University Press',\n",
       "  'John Wiley  &  Sons',\n",
       "  'Dell Publishing',\n",
       "  'Papermac',\n",
       "  'The Nation',\n",
       "  'The New York Review of Books',\n",
       "  'Category:1947 books',\n",
       "  'Category:Books about Sigmund Freud',\n",
       "  'Category:English-language books'],\n",
       " ['https://www.ebsco.com',\n",
       "  'http://www.nybooks.com/articles/2017/02/23/freud-whats-left/'],\n",
       " '2018-04-03T19:57:42Z',\n",
       " 3069]"
      ]
     },
     "execution_count": 3,
     "metadata": {},
     "output_type": "execute_result"
    }
   ],
   "source": [
    "books[0]"
   ]
  },
  {
   "cell_type": "markdown",
   "id": "480ab97b",
   "metadata": {},
   "source": [
    "#### It returns a list within a list. the 0 index within the list gives us the book title, 1 index postition gives book into and the 2 index position gives the internal wiki links"
   ]
  },
  {
   "cell_type": "markdown",
   "id": "fd293bbf",
   "metadata": {},
   "source": [
    "# Map books to integers "
   ]
  },
  {
   "cell_type": "markdown",
   "id": "dff4bd25",
   "metadata": {},
   "source": [
    "#### This step is necessay, as the embedding neural network requires the books to be in integer format. We will also reverse to get index to book"
   ]
  },
  {
   "cell_type": "code",
   "execution_count": 4,
   "id": "60c4d61f",
   "metadata": {},
   "outputs": [],
   "source": [
    "book_index = {book[0]:i for i,book in enumerate(books)}  #Creates a dict of the book title with its index pos as value\n",
    "index_book = {i: book[0] for i,book in enumerate(books)}"
   ]
  },
  {
   "cell_type": "markdown",
   "id": "fe94a494",
   "metadata": {},
   "source": [
    "### Explore the wikilinks, # of links, unique links and common links"
   ]
  },
  {
   "cell_type": "code",
   "execution_count": 5,
   "id": "ff056e8d",
   "metadata": {},
   "outputs": [
    {
     "name": "stdout",
     "output_type": "stream",
     "text": [
      "There are 1187773 total wikilinks and 311276 unique wiki links\n"
     ]
    }
   ],
   "source": [
    "wikilinks = list(chain(*[book[2] for book in books])) #We can use itertools to combine the list within a list \n",
    "print(f\"There are {len(wikilinks)} total wikilinks and {len(set(wikilinks))} unique wiki links\")"
   ]
  },
  {
   "cell_type": "code",
   "execution_count": 6,
   "id": "bae68399",
   "metadata": {},
   "outputs": [
    {
     "name": "stdout",
     "output_type": "stream",
     "text": [
      "There are 50407 total wikilinks and 17032 unique wiki links\n"
     ]
    }
   ],
   "source": [
    "wikilinks_other_books = [link for link in wikilinks if link in book_index.keys()]\n",
    "print(f\"There are {len(wikilinks_other_books)} total wikilinks and {len(set(wikilinks_other_books))} unique wiki links\")"
   ]
  },
  {
   "cell_type": "markdown",
   "id": "8812fb03",
   "metadata": {},
   "source": [
    "### Most Linked Articles"
   ]
  },
  {
   "cell_type": "markdown",
   "id": "8394035b",
   "metadata": {},
   "source": [
    "#### We want to count the links from each book once, We can take advantage of collections module to pass in a list and give out the sorted counted items in the list as dict"
   ]
  },
  {
   "cell_type": "code",
   "execution_count": 7,
   "id": "1cd25e50",
   "metadata": {},
   "outputs": [],
   "source": [
    "def count_val(listt):  ## Create a function that takes in a list and outputs a dict ordered\n",
    "    \n",
    "    counts = Counter(listt) # call Counter object and pass in the list, gives ordered vals.\n",
    "    \n",
    "    counts = sorted(counts.items(), key= lambda x: x[1], reverse = True)\n",
    "    counts = OrderedDict(counts)\n",
    "    \n",
    "    return counts # returns a dict in ordered format"
   ]
  },
  {
   "cell_type": "code",
   "execution_count": 8,
   "id": "9bc8f598",
   "metadata": {},
   "outputs": [
    {
     "data": {
      "text/plain": [
       "[('Hardcover', 7489),\n",
       " ('Paperback', 7311),\n",
       " ('Wikipedia:WikiProject Books', 6043),\n",
       " ('Wikipedia:WikiProject Novels', 6015),\n",
       " ('English language', 4185),\n",
       " ('United States', 3060),\n",
       " ('Science fiction', 3030),\n",
       " ('The New York Times', 2727),\n",
       " ('science fiction', 2502),\n",
       " ('novel', 1979)]"
      ]
     },
     "execution_count": 8,
     "metadata": {},
     "output_type": "execute_result"
    }
   ],
   "source": [
    "unique_wikilinks = list(chain(*[list(set(book[2])) for book in books]))\n",
    "\n",
    "wikilink_counts = count_val(unique_wikilinks)\n",
    "list(wikilink_counts.items())[:10]"
   ]
  },
  {
   "cell_type": "markdown",
   "id": "41c34914",
   "metadata": {},
   "source": [
    "#### lower case the links to get accurate number of links"
   ]
  },
  {
   "cell_type": "code",
   "execution_count": 9,
   "id": "d12050b4",
   "metadata": {},
   "outputs": [
    {
     "name": "stdout",
     "output_type": "stream",
     "text": [
      "There are 297624 unique wikilinks.\n"
     ]
    },
    {
     "data": {
      "text/plain": [
       "[('paperback', 8740),\n",
       " ('hardcover', 8648),\n",
       " ('wikipedia:wikiproject books', 6043),\n",
       " ('wikipedia:wikiproject novels', 6016),\n",
       " ('science fiction', 5665),\n",
       " ('english language', 4248),\n",
       " ('united states', 3063),\n",
       " ('novel', 2983),\n",
       " ('the new york times', 2742),\n",
       " ('fantasy', 2003)]"
      ]
     },
     "execution_count": 9,
     "metadata": {},
     "output_type": "execute_result"
    }
   ],
   "source": [
    "wikilinks = [link.lower() for link in unique_wikilinks]\n",
    "print(f\"There are {len(set(wikilinks))} unique wikilinks.\")\n",
    "\n",
    "wikilink_counts = count_val(wikilinks)\n",
    "list(wikilink_counts.items())[:10]"
   ]
  },
  {
   "cell_type": "markdown",
   "id": "5f81489e",
   "metadata": {},
   "source": [
    "#### We also want to remove the most common links for the ML model"
   ]
  },
  {
   "cell_type": "code",
   "execution_count": 10,
   "id": "89acd58e",
   "metadata": {},
   "outputs": [],
   "source": [
    "to_remove = ['hardcover', 'paperback', 'hardback', 'e-book', 'wikipedia:wikiproject books', 'wikipedia:wikiproject novels']\n",
    "for t in to_remove:\n",
    "    wikilinks.remove(t)\n",
    "    _ = wikilink_counts.pop(t)"
   ]
  },
  {
   "cell_type": "code",
   "execution_count": 11,
   "id": "6104982a",
   "metadata": {},
   "outputs": [
    {
     "name": "stdout",
     "output_type": "stream",
     "text": [
      "41758\n"
     ]
    }
   ],
   "source": [
    "links = [t[0] for t in wikilink_counts.items() if t[1] >= 4]\n",
    "print(len(links))"
   ]
  },
  {
   "cell_type": "markdown",
   "id": "29e03a21",
   "metadata": {},
   "source": [
    "#### Most linked to the books"
   ]
  },
  {
   "cell_type": "code",
   "execution_count": 12,
   "id": "1ca6c54e",
   "metadata": {},
   "outputs": [
    {
     "data": {
      "text/plain": [
       "[('The Encyclopedia of Science Fiction', 127),\n",
       " ('The Discontinuity Guide', 104),\n",
       " ('The Encyclopedia of Fantasy', 63),\n",
       " ('Dracula', 55),\n",
       " ('Encyclopædia Britannica', 51)]"
      ]
     },
     "execution_count": 12,
     "metadata": {},
     "output_type": "execute_result"
    }
   ],
   "source": [
    "# Find set of book wikilinks for each book\n",
    "unique_wikilinks_books = list(chain(*[list(set(link for link in book[2] if link in book_index.keys())) for book in books]))\n",
    "\n",
    "# Count the number of books linked to by other books\n",
    "wikilink_book_counts = count_val(unique_wikilinks_books)\n",
    "list(wikilink_book_counts.items())[0:5]\n"
   ]
  },
  {
   "cell_type": "markdown",
   "id": "a9ad2318",
   "metadata": {},
   "source": [
    "#### PLOT"
   ]
  },
  {
   "cell_type": "code",
   "execution_count": 13,
   "id": "de821ce0",
   "metadata": {},
   "outputs": [
    {
     "data": {
      "text/plain": [
       "Text(0.5, 1.0, 'Most Reapeated book')"
      ]
     },
     "execution_count": 13,
     "metadata": {},
     "output_type": "execute_result"
    },
    {
     "data": {
      "image/png": "[encoded data removed]",
      "text/plain": [
       "<Figure size 1080x648 with 1 Axes>"
      ]
     },
     "metadata": {
      "needs_background": "light"
     },
     "output_type": "display_data"
    }
   ],
   "source": [
    "# Plot the most repeated books\n",
    "import pandas as pd\n",
    "import matplotlib.pyplot as plt\n",
    "import seaborn as sns  # for Visualization\n",
    "\n",
    "common_book = pd.DataFrame(list(wikilink_book_counts.items()), columns = [\"Book\", \"Number\"])\n",
    "\n",
    "plt.figure(figsize = (15,9))\n",
    "sns.barplot(x = \"Book\", y = \"Number\", data= common_book[:6])\n",
    "plt.tight_layout()\n",
    "plt.title(\"Most Reapeated book\")"
   ]
  },
  {
   "cell_type": "markdown",
   "id": "715bdbde",
   "metadata": {},
   "source": [
    "#### Wikilinks to Index and vise versa"
   ]
  },
  {
   "cell_type": "code",
   "execution_count": 14,
   "id": "40b5663a",
   "metadata": {},
   "outputs": [],
   "source": [
    "link_index = {link: i for i, link in enumerate(links)}\n",
    "index_link = {i: link for link, i in link_index.items()}"
   ]
  },
  {
   "cell_type": "markdown",
   "id": "2f20c82a",
   "metadata": {},
   "source": [
    "# MACHINE LEARNING"
   ]
  },
  {
   "cell_type": "markdown",
   "id": "34e84cd4",
   "metadata": {},
   "source": [
    "#### Basically, we want to create a pair of tuples with each book and its respective wikilinks. This data will be used as a training set in our supervised learning algorithm to find the optimal embeddings."
   ]
  },
  {
   "cell_type": "markdown",
   "id": "64a4691f",
   "metadata": {},
   "source": [
    "#### Use Generator to see if the function prints a tules of index, as its a large data set and will take some time to load, generate it and if it works, then you can create a list comprehension for it.\n"
   ]
  },
  {
   "cell_type": "code",
   "execution_count": 15,
   "id": "e697330d",
   "metadata": {},
   "outputs": [],
   "source": [
    "## Creating a function to generate next item, as it does not save in the memory until you call next\n",
    "## yield to call generator and next to see the next result\n",
    "\n",
    "def create_pairs(books,links):\n",
    "    \n",
    "    for book in books:\n",
    "        for link in book[2]:\n",
    "            if link.lower() in links:\n",
    "                yield((book_index[book[0]], link_index[link.lower()]))"
   ]
  },
  {
   "cell_type": "code",
   "execution_count": 16,
   "id": "870dd4b6",
   "metadata": {},
   "outputs": [
    {
     "name": "stdout",
     "output_type": "stream",
     "text": [
      "(0, 265)\n",
      "(0, 353)\n",
      "(0, 265)\n",
      "(0, 4515)\n",
      "(0, 353)\n",
      "(0, 15961)\n",
      "(0, 9542)\n",
      "(0, 1028)\n",
      "(0, 25616)\n",
      "(0, 661)\n"
     ]
    }
   ],
   "source": [
    "## CHecking if the values are correct\n",
    "yolo = create_pairs(books,links)\n",
    "\n",
    "for i in range(10):\n",
    "    print(next(yolo))"
   ]
  },
  {
   "cell_type": "code",
   "execution_count": 17,
   "id": "fc44bb15",
   "metadata": {},
   "outputs": [],
   "source": [
    "pairs = []\n",
    "\n",
    "for book in books:\n",
    "   \n",
    "    pairs.extend((book_index[book[0]], link_index[link.lower()]) for link in book[2] if link.lower() in links)                   "
   ]
  },
  {
   "cell_type": "code",
   "execution_count": 18,
   "id": "370f6ecb",
   "metadata": {},
   "outputs": [
    {
     "name": "stdout",
     "output_type": "stream",
     "text": [
      "pairs: 772798, links: 41758, books: 37020\n"
     ]
    }
   ],
   "source": [
    "print(f\"pairs: {len(pairs)}, links: {len(links)}, books: {len(books)}\")"
   ]
  },
  {
   "cell_type": "markdown",
   "id": "8523d1a1",
   "metadata": {},
   "source": [
    "#### S0, We have 772798 pairs of training set"
   ]
  },
  {
   "cell_type": "code",
   "execution_count": 19,
   "id": "f570ec8f",
   "metadata": {},
   "outputs": [
    {
     "data": {
      "text/plain": [
       "('Lost in language  &  sound', 'misogynistic')"
      ]
     },
     "execution_count": 19,
     "metadata": {},
     "output_type": "execute_result"
    }
   ],
   "source": [
    "## Some Examples\n",
    "\n",
    "index_book[pairs[501][0]], index_link[pairs[501][1]]"
   ]
  },
  {
   "cell_type": "markdown",
   "id": "1a11f3f8",
   "metadata": {},
   "source": [
    "#### TRAINING SET : Since we are not trying to build a model to predict, we do not need to split our data between training and validation. We want to get the most optimal embedding, so its a better idea to use all the data available for training for better accuracy. \n",
    "\n",
    "#### Embedding is just a way to vectorize the words. Just like one hot encoding, we use embedding to get getter vector representation. unlike one hot encoding, embedding is also usefull as it groups similar categories together. We can then take cosine distance (dot product) to get the similarity between two vectors."
   ]
  },
  {
   "cell_type": "code",
   "execution_count": 20,
   "id": "b3dc2953",
   "metadata": {},
   "outputs": [],
   "source": [
    "pairs_set = set(pairs)"
   ]
  },
  {
   "cell_type": "code",
   "execution_count": 21,
   "id": "cd776871",
   "metadata": {},
   "outputs": [],
   "source": [
    "# So, we basically want to create a batch generator that gives the training example in array(batchsize,3)\n",
    "# which is book_index, link_index and the positive/negative response. "
   ]
  },
  {
   "cell_type": "code",
   "execution_count": 22,
   "id": "be45a472",
   "metadata": {},
   "outputs": [],
   "source": [
    "def generate_batch(pairs, n_positive = 50, negative_ratio = 1.0):\n",
    "    \n",
    "    batch_size = n_positive * (1 + negative_ratio)\n",
    "    batch = np.zeros((batch_size, 3))\n",
    "    neg_cl_lab = 0   ## Since we will be using classification, the negative examples will be 0\n",
    "    \n",
    "    # Create a Generator.. Basically to be efficient with the memory\n",
    "    while True:\n",
    "        # Creates an array from a randomly chosen sample set\n",
    "        for i, (book_id, link_id) in enumerate(random.sample(pairs, n_positive)):\n",
    "            batch[i, :] = (book_id, link_id, 1)\n",
    "\n",
    "        # Increment i by 1 at each loop\n",
    "        i =i + 1\n",
    "        \n",
    "        # Continue to create the batch with negative examples (wikilinks not in book) until the batch size reached\n",
    "        while i < batch_size:\n",
    "            \n",
    "            # random selection of book and link\n",
    "            r_book = random.randrange(len(books))\n",
    "            r_link = random.randrange(len(links))\n",
    "            \n",
    "            # Check if the combination exists in the positive pair\n",
    "            if (r_book, r_link) not in pairs_set:\n",
    "                \n",
    "                # Add to batch and increment index\n",
    "                batch[i, :] = (r_book, r_link, neg_cl_lab)\n",
    "                i =i + 1\n",
    "                \n",
    "        # shuffle order\n",
    "        np.random.shuffle(batch)\n",
    "        yield {'book': batch[:, 0], 'link': batch[:, 1]}, batch[:, 2]"
   ]
  },
  {
   "cell_type": "markdown",
   "id": "39c5a3de",
   "metadata": {},
   "source": [
    "#### Lets see some examples of creating a batch of index and then calling the book, link title out of that index position"
   ]
  },
  {
   "cell_type": "code",
   "execution_count": 23,
   "id": "0d3d841b",
   "metadata": {
    "scrolled": true
   },
   "outputs": [
    {
     "name": "stdout",
     "output_type": "stream",
     "text": [
      "Book: Like a Conquered Province      link: medieval                       label: 0.0\n",
      "Book: The Lion (2010 novel)          link: impeachment in the united states label: 0.0\n",
      "Book: The Princess of Dhagabad       link: herodias                       label: 1.0\n",
      "Book: Swords Against Darkness        link: category:oxford university press reference books label: 0.0\n",
      "Book: Between the Bridge and the River link: category:2006 novels           label: 1.0\n",
      "Book: The Pit (Penswick novel)       link: category:swedish books         label: 0.0\n"
     ]
    }
   ],
   "source": [
    "combo,y = next(generate_batch(pairs, n_positive=2, negative_ratio=2)) # since it returns a tuple, we assign two variables\n",
    "\n",
    "for i_book,i_link,i_y in zip(combo[\"book\"],combo[\"link\"],y):\n",
    "    print(f\"Book: {index_book[i_book]:30} link: {index_link[i_link]:30} label: {i_y}\")"
   ]
  },
  {
   "cell_type": "markdown",
   "id": "9369a6ec",
   "metadata": {},
   "source": [
    "#### The above function takes in pairs of each book with its respective links in tuple type. takes in the number of positive sample you want to generate at a time and also the number of negative result ratio and outputs a array of (book,link,positive/negative) batch thats randomly chosen."
   ]
  },
  {
   "cell_type": "markdown",
   "id": "30219ca9",
   "metadata": {},
   "source": [
    "## Steps till now\n",
    "\n",
    "#### Firstly, We loaded the scraped wikipedia data in JSON format and created a list of all the book info.\n",
    "\n",
    "#### We then wanted to create a training dataset, which led us to create a book title list and corresponding links list.\n",
    "\n",
    "#### We then did some cleaning and analysis in order to get better training data for our ML model\n",
    "\n",
    "#### We then created index for each books and its links, inorder to vectorize it for the ML model\n",
    "\n",
    "#### We then created a pair of tuples for the indices of books,links\n",
    "\n",
    "#### We then created a function that generates a batch in the array form, perfect input and output value type for our ML model\n",
    "\n"
   ]
  },
  {
   "cell_type": "markdown",
   "id": "87eae20d",
   "metadata": {},
   "source": [
    "# NEURAL NETWORK EMBEDDING MODEL"
   ]
  },
  {
   "cell_type": "markdown",
   "id": "85c6b3f7",
   "metadata": {},
   "source": [
    "#### Neural Network Model Using Keras\n",
    "\n",
    "- When we create a model, it is just the dim,shape and what to use\n",
    "- layer is just adding the layers, can be Dense layer, Embedding layer, LSTM layer\n",
    "- activation is adding what function to use to convert the inputs\n",
    "- compile is used to see how to optimize and the loss func to use to back propagate\n",
    "- fit is now finally inputs going in the model to find optimal parameters, needs epochs, batch_size etc."
   ]
  },
  {
   "cell_type": "markdown",
   "id": "65cbea22",
   "metadata": {},
   "source": [
    "### \n",
    "- Usually for embedding, we need: max_vocab_length, max_input_length\n",
    "- Output shape is 3D tensor (batch_size, input_length, output_dim)\n",
    "- For more info on embedding, check out the keras- embedding documentation."
   ]
  },
  {
   "cell_type": "code",
   "execution_count": 24,
   "id": "0a102ba3",
   "metadata": {},
   "outputs": [
    {
     "name": "stdout",
     "output_type": "stream",
     "text": [
      "Model: \"model\"\n",
      "__________________________________________________________________________________________________\n",
      "Layer (type)                    Output Shape         Param #     Connected to                     \n",
      "==================================================================================================\n",
      "book (InputLayer)               [(None, 1)]          0                                            \n",
      "__________________________________________________________________________________________________\n",
      "link (InputLayer)               [(None, 1)]          0                                            \n",
      "__________________________________________________________________________________________________\n",
      "book_embedding (Embedding)      (None, 1, 40)        1480800     book[0][0]                       \n",
      "__________________________________________________________________________________________________\n",
      "link_embedding (Embedding)      (None, 1, 40)        1670320     link[0][0]                       \n",
      "__________________________________________________________________________________________________\n",
      "dot_product (Dot)               (None, 1, 1)         0           book_embedding[0][0]             \n",
      "                                                                 link_embedding[0][0]             \n",
      "__________________________________________________________________________________________________\n",
      "reshape (Reshape)               (None, 1)            0           dot_product[0][0]                \n",
      "__________________________________________________________________________________________________\n",
      "dense (Dense)                   (None, 1)            2           reshape[0][0]                    \n",
      "==================================================================================================\n",
      "Total params: 3,151,122\n",
      "Trainable params: 3,151,122\n",
      "Non-trainable params: 0\n",
      "__________________________________________________________________________________________________\n"
     ]
    },
    {
     "name": "stderr",
     "output_type": "stream",
     "text": [
      "2022-06-20 14:13:47.132516: I tensorflow/core/platform/cpu_feature_guard.cc:145] This TensorFlow binary is optimized with Intel(R) MKL-DNN to use the following CPU instructions in performance critical operations:  SSE4.1 SSE4.2\n",
      "To enable them in non-MKL-DNN operations, rebuild TensorFlow with the appropriate compiler flags.\n",
      "2022-06-20 14:13:47.133658: I tensorflow/core/common_runtime/process_util.cc:115] Creating new thread pool with default inter op setting: 8. Tune using inter_op_parallelism_threads for best performance.\n"
     ]
    }
   ],
   "source": [
    "def embedding_model(embedding_size = 60):\n",
    "    \n",
    "    # Since we will be using functional API to connect the layers in the neural network\n",
    "    # We create input placeholders of 1D\n",
    "    book = Input(name = 'book', shape = [1])\n",
    "    link = Input(name = 'link', shape = [1])\n",
    "    \n",
    "    # book embeddings: It creates 3D output of (book title, integer rep, vector rep)\n",
    "    # by taking in 2D input (book title, integer rep)\n",
    "    # output_dim is our choice, basically the number of vec dim rep\n",
    "    \n",
    "    # since input_length is 1, we do not need to specify it.\n",
    "    book_embedding = Embedding(name = 'book_embedding',\n",
    "                               input_dim = len(book_index),\n",
    "                               output_dim = embedding_size)(book) # the (book) is the input value\n",
    "    \n",
    "    # Embedding the link of 3D shape\n",
    "    link_embedding = Embedding(name = 'link_embedding',\n",
    "                               input_dim = len(link_index),\n",
    "                               output_dim = embedding_size)(link)\n",
    "    \n",
    "    # Dot product the vectors. Output gives 3D, (batch,1,1)\n",
    "    dot_output = Dot(name = 'dot_product', normalize = True, axes = 2)([book_embedding, link_embedding])\n",
    "    \n",
    "    # outputs single number to use loss function\n",
    "    dot_output = Reshape(target_shape = [1])(dot_output)\n",
    "    \n",
    "    # Since we are doing a classification task, we use sigmoid function to convert the vals between 0-1\n",
    "    dot_output = Dense(1, activation = 'sigmoid')(dot_output)\n",
    "    \n",
    "    # Create a neural network model that takes inputs and outputs \n",
    "    model = Model(inputs = [book, link], outputs = dot_output)\n",
    "    \n",
    "    # we use adam optimizer since it is quicker and binary crossentropy as it is binary task (0,1)\n",
    "    model.compile(optimizer = 'Adam', loss = 'binary_crossentropy', metrics = ['accuracy'])\n",
    "    \n",
    "    return model\n",
    "\n",
    "# Instantiate the model \n",
    "model = embedding_model(embedding_size = 40)\n",
    "model.summary()"
   ]
  },
  {
   "cell_type": "markdown",
   "id": "af284766",
   "metadata": {},
   "source": [
    "#### There are nearly 4.0 million weights (parameters) that need to be learned by the neural network. Each of these represents one number in an embedding for one entity. During training, the neural network adjusts these parameters in order to minimize the loss function on the training data."
   ]
  },
  {
   "cell_type": "markdown",
   "id": "2234d95e",
   "metadata": {},
   "source": [
    "# TRAIN MODEL"
   ]
  },
  {
   "cell_type": "code",
   "execution_count": 25,
   "id": "9a5bcfaf",
   "metadata": {},
   "outputs": [
    {
     "name": "stdout",
     "output_type": "stream",
     "text": [
      "Epoch 1/12\n",
      "671/671 - 88s - loss: 0.6629 - accuracy: 0.6244\n",
      "Epoch 2/12\n",
      "671/671 - 94s - loss: 0.6390 - accuracy: 0.6667\n",
      "Epoch 3/12\n",
      "671/671 - 95s - loss: 0.6368 - accuracy: 0.6667\n",
      "Epoch 4/12\n",
      "671/671 - 96s - loss: 0.6365 - accuracy: 0.6667\n",
      "Epoch 5/12\n",
      "671/671 - 96s - loss: 0.6365 - accuracy: 0.6667\n",
      "Epoch 6/12\n",
      "671/671 - 96s - loss: 0.6365 - accuracy: 0.6667\n",
      "Epoch 7/12\n",
      "671/671 - 98s - loss: 0.6365 - accuracy: 0.6667\n",
      "Epoch 8/12\n",
      "671/671 - 97s - loss: 0.6365 - accuracy: 0.6667\n",
      "Epoch 9/12\n",
      "671/671 - 98s - loss: 0.6365 - accuracy: 0.6667\n",
      "Epoch 10/12\n",
      "671/671 - 99s - loss: 0.6365 - accuracy: 0.6667\n",
      "Epoch 11/12\n",
      "671/671 - 98s - loss: 0.6365 - accuracy: 0.6667\n",
      "Epoch 12/12\n",
      "671/671 - 99s - loss: 0.6365 - accuracy: 0.6667\n"
     ]
    }
   ],
   "source": [
    "n_positive = 1150 # number of samples in a batch\n",
    "\n",
    "generate = generate_batch(pairs, n_positive, negative_ratio = 2)\n",
    "\n",
    "# Train\n",
    "recommend = model.fit_generator(generate, epochs = 12, \n",
    "                        steps_per_epoch = (len(pairs) // n_positive),\n",
    "                        verbose = 2)"
   ]
  },
  {
   "cell_type": "code",
   "execution_count": 26,
   "id": "25a5f1cb",
   "metadata": {},
   "outputs": [],
   "source": [
    "# Save the model\n",
    "model.save('book_recommed_wiki_1.h5')"
   ]
  },
  {
   "cell_type": "markdown",
   "id": "42ae8cf5",
   "metadata": {},
   "source": [
    "#### Usually we predict new data using our model, but in this project, we just want to use the embedding parameters that we got to find similar books"
   ]
  },
  {
   "cell_type": "code",
   "execution_count": 27,
   "id": "957fb6e9",
   "metadata": {},
   "outputs": [
    {
     "data": {
      "text/plain": [
       "(37020, 40)"
      ]
     },
     "execution_count": 27,
     "metadata": {},
     "output_type": "execute_result"
    }
   ],
   "source": [
    "## Extracting the trained embeddings representing each book\n",
    "\n",
    "b_layer = model.get_layer(\"book_embedding\") # assigns the layer \n",
    "b_weights = b_layer.get_weights()[0]\n",
    "b_weights.shape # shape = (book title, vec rep of book title)"
   ]
  },
  {
   "cell_type": "markdown",
   "id": "dfba2957",
   "metadata": {},
   "source": [
    "#### The shape above shows that, each book is represented by a 60 dimensional vector. \n",
    "\n",
    "#### We now need to normalize the 60d vector. normalizing is the process of finding a unit vector ( with magnitude 1) in the same director as the initial vector that we normalized. This step normalizes all the 37020 vectors, where each vector represents a book. This is done as the dot product of the query book vector and all the other vectors will give the cosine similarity which is used to recommend a book."
   ]
  },
  {
   "cell_type": "code",
   "execution_count": 28,
   "id": "ced44d97",
   "metadata": {},
   "outputs": [
    {
     "data": {
      "text/plain": [
       "array([ 0.22592951, -0.0582108 ,  0.3083123 , -0.11840917, -0.12364815,\n",
       "        0.15228452,  0.0852596 , -0.15666091,  0.15261719, -0.0037436 ,\n",
       "        0.28407413, -0.15441671,  0.09612592, -0.05674679,  0.01238544,\n",
       "       -0.01603526, -0.13152741, -0.12075199, -0.15884937,  0.09561033,\n",
       "        0.20556837,  0.13418259, -0.37168857, -0.02439806,  0.08285867,\n",
       "       -0.18842714,  0.12060835,  0.15655597, -0.30981612, -0.0611244 ,\n",
       "        0.17117448,  0.08981504,  0.05978707,  0.05466589, -0.11897089,\n",
       "        0.02789591, -0.01967595, -0.07671958,  0.33723456, -0.01420572],\n",
       "      dtype=float32)"
      ]
     },
     "execution_count": 28,
     "metadata": {},
     "output_type": "execute_result"
    }
   ],
   "source": [
    "b_weights = b_weights / np.linalg.norm(b_weights, axis = 1).reshape((-1, 1)) # Normalizes all the vectors in the array\n",
    "b_weights[0] ## this array represents the first book in our list which is already normalized"
   ]
  },
  {
   "cell_type": "code",
   "execution_count": 29,
   "id": "28dadb04",
   "metadata": {},
   "outputs": [
    {
     "data": {
      "text/plain": [
       "0.9999999"
      ]
     },
     "execution_count": 29,
     "metadata": {},
     "output_type": "execute_result"
    }
   ],
   "source": [
    "np.sum(np.square(b_weights[0])) # you can see the magnitude of the vectors is 1 "
   ]
  },
  {
   "cell_type": "markdown",
   "id": "8ef06039",
   "metadata": {},
   "source": [
    "# FINDING THE SIMILAR BOOKS"
   ]
  },
  {
   "cell_type": "markdown",
   "id": "2c2d87a3",
   "metadata": {},
   "source": [
    "#### After we take the dot product, the most similar books are represented with a 1 and the least are represented by -1"
   ]
  },
  {
   "cell_type": "code",
   "execution_count": 30,
   "id": "0dc1ac2e",
   "metadata": {},
   "outputs": [],
   "source": [
    "# Creates a function that takes the query book name, number of results as n, weights of all the books\n",
    "# that outputs the books similar or least similar with its correlation value\n",
    "\n",
    "def similar_books(name, weights, n =5, least_similar = False ):\n",
    "    \n",
    "    index = book_index\n",
    "    r_index = index_book\n",
    "    \n",
    "    \n",
    "    # tries to see if the query book name is amonst the books in our list, if not returns not found\n",
    "    \n",
    "    try:\n",
    "         co_sim = np.dot(weights,weights[index[name]]) # takes cosine similarities between vectors\n",
    "            \n",
    "    except KeyError:\n",
    "        print(f'{name} Not Found.')\n",
    "        return  \n",
    "    \n",
    "    sorted_idx = np.argsort(co_sim) # Sorts the correlation (-1 to 1) in ascending order \n",
    "    r_sorted_idx = sorted_idx[::-1] # Sorts the correlation (-1 to 1) in descending order \n",
    "    \n",
    "    if least_similar: # if True\n",
    "        \n",
    "        print(f\"The least similar books compared to {name} are:\")\n",
    "        print(\"\\n\")\n",
    "        \n",
    "        for i in range(n):\n",
    "             print(f\"{r_index[sorted_idx[i]]:70} Similarity: {co_sim[sorted_idx[i]]}\")\n",
    "                  \n",
    "    else:\n",
    "        print(f\"The Most similar books compared to {name} are:\")\n",
    "        print(\"\\n\")\n",
    "        \n",
    "        for i in range(n):\n",
    "             print(f\"{r_index[r_sorted_idx[i]]:70} Similarity: {co_sim[r_sorted_idx[i]]}\")         "
   ]
  },
  {
   "cell_type": "markdown",
   "id": "f85dfabf",
   "metadata": {},
   "source": [
    "# Examples of recommendation"
   ]
  },
  {
   "cell_type": "code",
   "execution_count": 31,
   "id": "0af45c5d",
   "metadata": {},
   "outputs": [
    {
     "name": "stdout",
     "output_type": "stream",
     "text": [
      "The Most similar books compared to Freud: His Life and His Mind are:\n",
      "\n",
      "\n",
      "Freud: His Life and His Mind                                           Similarity: 0.9999998807907104\n",
      "Star Trek Lives!                                                       Similarity: 0.5943354368209839\n",
      "Clouds Blur the Rainbow                                                Similarity: 0.5678695440292358\n",
      "Culture of Corruption                                                  Similarity: 0.5466879606246948\n",
      "Drummer Hoff                                                           Similarity: 0.5334361791610718\n"
     ]
    }
   ],
   "source": [
    "sim_book1 = similar_books(books[0][0],b_weights) # first book in out list of books"
   ]
  },
  {
   "cell_type": "code",
   "execution_count": 32,
   "id": "d7d6a12e",
   "metadata": {},
   "outputs": [
    {
     "name": "stdout",
     "output_type": "stream",
     "text": [
      "The least similar books compared to Freud: His Life and His Mind are:\n",
      "\n",
      "\n",
      "The Orchid Thief                                                       Similarity: -0.6840913891792297\n",
      "A Basket of Leaves                                                     Similarity: -0.5944517850875854\n",
      "Os Maias                                                               Similarity: -0.576063334941864\n",
      "The 120 Days of Sodom                                                  Similarity: -0.537731945514679\n",
      "Khalangama Hamala                                                      Similarity: -0.5291274189949036\n"
     ]
    }
   ],
   "source": [
    "sim_book2 = similar_books(books[0][0],b_weights,least_similar=True)"
   ]
  },
  {
   "cell_type": "code",
   "execution_count": 33,
   "id": "5740c396",
   "metadata": {},
   "outputs": [],
   "source": [
    "book3 = books[2][0]  ## assigns the book title"
   ]
  },
  {
   "cell_type": "code",
   "execution_count": 34,
   "id": "4bbcbf42",
   "metadata": {
    "scrolled": true
   },
   "outputs": [
    {
     "name": "stdout",
     "output_type": "stream",
     "text": [
      "The Most similar books compared to My Real Children are:\n",
      "\n",
      "\n",
      "My Real Children                                                       Similarity: 1.0\n",
      "The Age of Louis XIV                                                   Similarity: 0.5981936454772949\n",
      "Four Upbuilding Discourses, 1844                                       Similarity: 0.5879479050636292\n",
      "Little People!                                                         Similarity: 0.5691173076629639\n",
      "The Black Obelisk                                                      Similarity: 0.5546696186065674\n"
     ]
    }
   ],
   "source": [
    "sim_book3 = similar_books(book3,b_weights)"
   ]
  },
  {
   "cell_type": "markdown",
   "id": "bada9753",
   "metadata": {},
   "source": [
    "#### You can see that the coefficient of similarity is 1 between itself. THAT MAKES SENSE."
   ]
  },
  {
   "cell_type": "markdown",
   "id": "bde6e20b",
   "metadata": {},
   "source": [
    "### Highlight"
   ]
  },
  {
   "cell_type": "markdown",
   "id": "29f2439d",
   "metadata": {},
   "source": [
    "For a NLP project, the overall intuition involves:\n",
    "\n",
    "- tokenizing the words, removing STOPWORDS, stemming\n",
    "- Creating integer index, converting it to vector (use various libraries for this)\n",
    "- Embedding the words to get densed vector\n",
    "- Supervised learning to optimize the embedding parameters\n",
    "- Converting the vector back to words"
   ]
  },
  {
   "cell_type": "markdown",
   "id": "98a6d154",
   "metadata": {},
   "source": [
    "# CONCLUSION"
   ]
  },
  {
   "cell_type": "markdown",
   "id": "9a3d5bfb",
   "metadata": {},
   "source": [
    "We created a pretty decent book recommendation system by following a simple concept that similar books will be referenced in the query book. We then created a neural network to develop a supervised learning to merge books and the referened books in order to get the embedding parameters, which was then used to find the cosine similarities.\n",
    "\n",
    "The embedding parameters found can be used in various ways to find the similar books. We could also find similar books based on the genre, authors etc. "
   ]
  },
  {
   "cell_type": "markdown",
   "id": "6d937f12",
   "metadata": {},
   "source": [
    "### How can we improve \n",
    "#### We can improve the model in various ways in order to get better embedding vectors:\n",
    "\n",
    "- We can clean the dataset further by removing common items in order to reduce the noise\n",
    "- We can optimize hyper-parameters in the neural network model to get better result\n",
    "- We can use a different info to do the supervised learning in order to get better model to recommend\n",
    "- We can try and use regression model instead of classification"
   ]
  }
 ],
 "metadata": {
  "kernelspec": {
   "display_name": "Python 3 (ipykernel)",
   "language": "python",
   "name": "python3"
  },
  "language_info": {
   "codemirror_mode": {
    "name": "ipython",
    "version": 3
   },
   "file_extension": ".py",
   "mimetype": "text/x-python",
   "name": "python",
   "nbconvert_exporter": "python",
   "pygments_lexer": "ipython3",
   "version": "3.7.11"
  }
 },
 "nbformat": 4,
 "nbformat_minor": 5
}
